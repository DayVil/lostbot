{
 "cells": [
  {
   "cell_type": "markdown",
   "metadata": {},
   "source": [
    "# Tests for speed calculations"
   ]
  },
  {
   "cell_type": "code",
   "execution_count": null,
   "metadata": {},
   "outputs": [],
   "source": [
    "%pip install pandas numpy matplotlib seaborn nbstripout"
   ]
  },
  {
   "cell_type": "code",
   "execution_count": null,
   "metadata": {},
   "outputs": [],
   "source": [
    "import pandas as pd\n",
    "import seaborn as sns\n",
    "import matplotlib.pyplot as plt\n",
    "import numpy as np"
   ]
  },
  {
   "cell_type": "markdown",
   "metadata": {},
   "source": [
    "## Different Models"
   ]
  },
  {
   "cell_type": "code",
   "execution_count": null,
   "metadata": {},
   "outputs": [],
   "source": [
    "##### Config #####\n",
    "acceleration = 2\n",
    "max_speed = 100\n",
    "range_array = np.arange(0, 100, 0.1)"
   ]
  },
  {
   "cell_type": "code",
   "execution_count": null,
   "metadata": {},
   "outputs": [],
   "source": [
    "def linear_acceleration(acceleration, max_speed, range_array):\n",
    "    data = []\n",
    "    current_speed = 0\n",
    "    for i in range_array:\n",
    "        current_speed = min(max_speed, current_speed + acceleration)\n",
    "        data.append(current_speed)\n",
    "    return data\n",
    "\n",
    "def exponential_acceleration(acceleration, max_speed, range_array):\n",
    "    data = []\n",
    "    current_speed = 0\n",
    "    for i in range_array:\n",
    "        current_speed = min(max_speed, current_speed + acceleration * (1 - current_speed / max_speed))\n",
    "        data.append(current_speed)\n",
    "    return data\n",
    "\n",
    "def slow_exp_acceleration(acceleration, max_speed, range_array):\n",
    "    data = []\n",
    "    current_speed = 0\n",
    "    for i in range_array:\n",
    "        current_speed = (i* acceleration)**2\n",
    "        current_speed = min(max_speed, current_speed)\n",
    "        data.append(current_speed)\n",
    "    return data\n",
    "        "
   ]
  },
  {
   "cell_type": "markdown",
   "metadata": {},
   "source": [
    "## Visualizations of all models"
   ]
  },
  {
   "cell_type": "code",
   "execution_count": null,
   "metadata": {},
   "outputs": [],
   "source": [
    "# Creating the figure and the axes\n",
    "fig, axes = plt.subplots(ncols=3, nrows=1, figsize=(30, 10))\n",
    "\n",
    "# Plotting the data\n",
    "sns.lineplot(x=range_array, y=linear_acceleration(acceleration, max_speed, range_array), ax=axes[0])\n",
    "sns.lineplot(x=range_array, y=exponential_acceleration(acceleration, max_speed, range_array), ax=axes[1])\n",
    "sns.lineplot(x=range_array, y=slow_exp_acceleration(acceleration, max_speed, range_array), ax=axes[2])\n",
    "\n",
    "for ax in axes:\n",
    "    ax.set_title(\"Linear Acceleration\")\n",
    "    ax.set_xlabel(\"Time\")\n",
    "    ax.set_ylabel(\"Speed\")\n",
    "    ax.set_xlim(0, 100)\n",
    "    ax.set_ylim(0, 110)\n",
    "\n",
    "# Showing the plot\n",
    "plt.tight_layout()\n",
    "plt.show()"
   ]
  }
 ],
 "metadata": {
  "kernelspec": {
   "display_name": ".venv",
   "language": "python",
   "name": "python3"
  },
  "language_info": {
   "codemirror_mode": {
    "name": "ipython",
    "version": 3
   },
   "file_extension": ".py",
   "mimetype": "text/x-python",
   "name": "python",
   "nbconvert_exporter": "python",
   "pygments_lexer": "ipython3",
   "version": "3.11.3"
  }
 },
 "nbformat": 4,
 "nbformat_minor": 2
}
